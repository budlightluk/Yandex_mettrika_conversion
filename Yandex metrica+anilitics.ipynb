{
 "cells": [
  {
   "cell_type": "code",
   "execution_count": null,
   "id": "4648bb21-947f-4e9c-be61-96f9aac20547",
   "metadata": {},
   "outputs": [],
   "source": [
    "!pip install requests pandas"
   ]
  },
  {
   "cell_type": "code",
   "execution_count": null,
   "id": "fa294b19-f7c7-4ba9-852a-4093f8d943a8",
   "metadata": {},
   "outputs": [],
   "source": [
    "import requests\n",
    "import pandas as pd\n",
    "import json\n",
    "import datetime"
   ]
  },
  {
   "cell_type": "code",
   "execution_count": null,
   "id": "8244f12b-95f6-4339-9353-5b11e4604e19",
   "metadata": {},
   "outputs": [],
   "source": [
    "# Конифигурация для Яндекс Метрики\n",
    "yandex_metrika_counter_id = \"your_counter_id\"\n",
    "yandex_metrika_api_url = f\"https://api-metrika.yandex.net/management/v1/counter/{yandex_metrika_counter_id}/offline_conversions/upload\"\n",
    "yandex_oauth_token = \"your_yandex_oauth_token\"\n",
    "\n",
    "client_id_field = \"_ym_uid\"  \n"
   ]
  },
  {
   "cell_type": "markdown",
   "id": "4c1e26ef-925d-48f2-a195-16f5bb3a4640",
   "metadata": {},
   "source": [
    "Задайте конфигурационные параметры для Яндекс Метрики.\n",
    "\n"
   ]
  },
  {
   "cell_type": "code",
   "execution_count": null,
   "id": "f00e520a-dadf-4a32-824a-2a62abee809e",
   "metadata": {},
   "outputs": [],
   "source": [
    "def upload_to_yandex_metrika(conversions):\n",
    "    headers = {\n",
    "        'Authorization': f'OAuth {yandex_oauth_token}',\n",
    "        'Content-Type': 'application/json'\n",
    "    }\n",
    "    data = {\n",
    "        \"counterId\": yandex_metrika_counter_id,\n",
    "        \"conversions\": conversions\n",
    "    }\n",
    "    response = requests.post(yandex_metrika_api_url, headers=headers, data=json.dumps(data))\n",
    "    return response\n"
   ]
  },
  {
   "cell_type": "markdown",
   "id": "4f6fc73d-8a85-4b43-98e8-23834f02eca1",
   "metadata": {},
   "source": [
    "Функция для загрузки конверсий в Яндекс Метрику\n"
   ]
  },
  {
   "cell_type": "code",
   "execution_count": null,
   "id": "2f2e9617-7aaa-4085-8b0f-7e8900d93d03",
   "metadata": {},
   "outputs": [],
   "source": [
    "# Sample data representing conversions\n",
    "data = [\n",
    "    {\n",
    "        \"client_id\": \"1234567890\",  # пример ID (_ym_uid). Нужно вставить свое\n",
    "        \"goal_id\": 1,  # ID в Яндекс метрике\n",
    "        \"revenue\": 1000,  \n",
    "        \"currency\": \"RUB\",  \n",
    "        \"timestamp\": datetime.datetime.now().isoformat()  # Current timestamp\n",
    "    },\n",
    "    # Добавьте большее данных конверсии, если требуется\n",
    "]\n",
    "\n",
    "# Загрузка в метрику\n",
    "response = upload_to_yandex_metrika(data)\n",
    "\n",
    "if response.status_code == 200:\n",
    "    print(\"Upload successful!\")\n",
    "else:\n",
    "    print(f\"Error: {response.status_code}\")\n",
    "    print(f\"Message: {response.text}\")\n"
   ]
  },
  {
   "cell_type": "markdown",
   "id": "e441daca-7fae-493b-bb6e-7b42cfd4985e",
   "metadata": {},
   "source": [
    "Пример обработки данных из вебхуков или CRM"
   ]
  },
  {
   "cell_type": "code",
   "execution_count": null,
   "id": "7c1e89b9-8d8d-47d4-9fa8-9d2bbba286ed",
   "metadata": {},
   "outputs": [],
   "source": [
    "def analyze_conversions(conversions):\n",
    "    df = pd.DataFrame(conversions)\n",
    "    summary = df.groupby('goal_id').agg({\n",
    "        'revenue': ['sum', 'mean'],\n",
    "        'client_id': 'count'\n",
    "    }).reset_index()\n",
    "    \n",
    "    summary.columns = ['goal_id', 'total_revenue', 'average_revenue', 'total_conversions']\n",
    "    return summary\n",
    "\n",
    "# Aнализ\n",
    "conversion_summary = analyze_conversions(data)\n",
    "print(conversion_summary)\n"
   ]
  },
  {
   "cell_type": "code",
   "execution_count": null,
   "id": "262fa33d-20e7-4f2e-8e01-87ac3f51c866",
   "metadata": {},
   "outputs": [],
   "source": []
  }
 ],
 "metadata": {
  "kernelspec": {
   "display_name": "Python 3 (ipykernel)",
   "language": "python",
   "name": "python3"
  },
  "language_info": {
   "codemirror_mode": {
    "name": "ipython",
    "version": 3
   },
   "file_extension": ".py",
   "mimetype": "text/x-python",
   "name": "python",
   "nbconvert_exporter": "python",
   "pygments_lexer": "ipython3",
   "version": "3.11.5"
  }
 },
 "nbformat": 4,
 "nbformat_minor": 5
}
